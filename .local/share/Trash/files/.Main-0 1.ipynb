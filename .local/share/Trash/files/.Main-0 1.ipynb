{
 "cells": [
  {
   "cell_type": "markdown",
   "metadata": {
    "slideshow": {
     "slide_type": "slide"
    }
   },
   "source": [
    "# 23-08-2018, Italia, Toscana, Arezzo;\n",
    "Premier notebook contenant mes informations globales de programmations.\n",
    "\n",
    "Par Nicolas Cloutier\n"
   ]
  },
  {
   "cell_type": "markdown",
   "metadata": {
    "slideshow": {
     "slide_type": "slide"
    }
   },
   "source": [
    "## Première partie - Widgets sous Jupyter Notebook\n",
    "\n",
    "L'installation des widgets nécessite deux maniulations: \n",
    "\n",
    "I. L'une sur le kernel\n",
    "\n",
    "II.L'autre sur le front end"
   ]
  },
  {
   "cell_type": "code",
   "execution_count": 2,
   "metadata": {
    "slideshow": {
     "slide_type": "slide"
    }
   },
   "outputs": [
    {
     "data": {
      "application/vnd.jupyter.widget-view+json": {
       "model_id": "cc5e6e7644da43439f42f78ebcd9064a",
       "version_major": 2,
       "version_minor": 0
      },
      "text/plain": [
       "Text(value='')"
      ]
     },
     "metadata": {},
     "output_type": "display_data"
    }
   ],
   "source": [
    "#TEXT INSERTION WIDGETS\n",
    "#Appel de fonction\n",
    "from ipywidgets import widgets\n",
    "from IPython.display import display\n",
    "\n",
    "text=widgets.Text()\n",
    "display(text)\n",
    "\n",
    "def handle_submit(sender):\n",
    "    print(text.value)\n",
    "    \n",
    "text.on_submit(handle_submit)    "
   ]
  },
  {
   "cell_type": "code",
   "execution_count": 3,
   "metadata": {
    "slideshow": {
     "slide_type": "slide"
    }
   },
   "outputs": [
    {
     "data": {
      "application/vnd.jupyter.widget-view+json": {
       "model_id": "221f599b6dcf48a0ba63e3bba3cbf037",
       "version_major": 2,
       "version_minor": 0
      },
      "text/plain": [
       "Button(description='Click Me!', style=ButtonStyle())"
      ]
     },
     "metadata": {},
     "output_type": "display_data"
    }
   ],
   "source": [
    "#BUTTON WIDGETS\n",
    "#Appel de fonction\n",
    "#from ipywidgets import widgets\n",
    "#from IPython.display import display\n",
    "\n",
    "button=widgets.Button(description=\"Click Me!\")\n",
    "display(button)\n",
    "\n",
    "def on_button_clicked(b):\n",
    "    print(\"Button clicked.\")\n",
    "    \n",
    "    \n",
    "button.on_click(on_button_clicked)\n"
   ]
  },
  {
   "cell_type": "code",
   "execution_count": 4,
   "metadata": {
    "slideshow": {
     "slide_type": "slide"
    }
   },
   "outputs": [
    {
     "data": {
      "application/vnd.jupyter.widget-view+json": {
       "model_id": "a211dc9542654de98b78254539895d70",
       "version_major": 2,
       "version_minor": 0
      },
      "text/plain": [
       "interactive(children=(IntSlider(value=10, description='x', max=30, min=-10), Output()), _dom_classes=('widget-…"
      ]
     },
     "metadata": {},
     "output_type": "display_data"
    },
    {
     "data": {
      "application/vnd.jupyter.widget-view+json": {
       "model_id": "7a60d566933940d6b59357b658a6b510",
       "version_major": 2,
       "version_minor": 0
      },
      "text/plain": [
       "interactive(children=(Checkbox(value=False, description='x'), Output()), _dom_classes=('widget-interact',))"
      ]
     },
     "metadata": {},
     "output_type": "display_data"
    },
    {
     "data": {
      "text/plain": [
       "<function __main__.f(x)>"
      ]
     },
     "execution_count": 4,
     "metadata": {},
     "output_type": "execute_result"
    }
   ],
   "source": [
    "#SLIDER AND CHECK BOX WIDGETS\n",
    "#Appel de fonction\n",
    "#from ipywidgets import widgets\n",
    "#from IPython.display import display\n",
    "from ipywidgets import interact\n",
    "def f(x):\n",
    "    return x\n",
    "interact(f,x=widgets.IntSlider(min=-10,max=30,step=1,value=10))\n",
    "interact(f,x=False)    "
   ]
  },
  {
   "cell_type": "code",
   "execution_count": 5,
   "metadata": {
    "slideshow": {
     "slide_type": "slide"
    }
   },
   "outputs": [
    {
     "data": {
      "application/vnd.jupyter.widget-view+json": {
       "model_id": "b0326a50cdc14746b7d79af2102a981d",
       "version_major": 2,
       "version_minor": 0
      },
      "text/plain": [
       "interactive(children=(IntSlider(value=5, description='Température', max=10), IntSlider(value=5, description='V…"
      ]
     },
     "metadata": {},
     "output_type": "display_data"
    },
    {
     "data": {
      "application/vnd.jupyter.widget-view+json": {
       "model_id": "282e3b9bc8494705ba7f23289e085634",
       "version_major": 2,
       "version_minor": 0
      },
      "text/plain": [
       "interactive(children=(FloatSlider(value=0.5, description='x', max=1.0), FloatSlider(value=0.5, description='y'…"
      ]
     },
     "metadata": {},
     "output_type": "display_data"
    },
    {
     "data": {
      "text/plain": [
       "<function __main__.h(x, y)>"
      ]
     },
     "execution_count": 5,
     "metadata": {},
     "output_type": "execute_result"
    }
   ],
   "source": [
    "#SLIDER MULTI-VARIABLES\n",
    "#Appel de fonction\n",
    "#from ipywidgets import widgets\n",
    "#from IPython.display import display\n",
    "\n",
    "def g(x, y):\n",
    "    return (x, y)\n",
    "\n",
    "interact(g,x=widgets.IntSlider(min=0,max=10,step=1,description='Température',value=5), y=widgets.IntSlider(min=0,max=10,step=1,description='Volt',value=5))\n",
    "\n",
    "def h(x,y):\n",
    "    return(x,y)\n",
    "\n",
    "interact(h,x=widgets.FloatSlider(min=0.0,max=1.0,step=0.1,value=0.5), y=widgets.FloatSlider(min=0.0,max=1.0,step=0.1,value=0.5))\n"
   ]
  },
  {
   "cell_type": "code",
   "execution_count": 6,
   "metadata": {
    "slideshow": {
     "slide_type": "slide"
    }
   },
   "outputs": [
    {
     "data": {
      "application/vnd.jupyter.widget-view+json": {
       "model_id": "b2148f627c5e4030bb7b287682abefe7",
       "version_major": 2,
       "version_minor": 0
      },
      "text/plain": [
       "interactive(children=(Dropdown(description='x', options=(('one', 10), ('two', 20)), value=10), Output()), _dom…"
      ]
     },
     "metadata": {},
     "output_type": "display_data"
    },
    {
     "data": {
      "text/plain": [
       "<function __main__.f(x)>"
      ]
     },
     "execution_count": 6,
     "metadata": {},
     "output_type": "execute_result"
    }
   ],
   "source": [
    "#DROP DOWN MENU PASSING NON-STRING VALUE\n",
    "#Appel de fonction\n",
    "#from ipywidgets import widgets\n",
    "#from IPython.display import display\n",
    "interact(f, x=[('one', 10), ('two', 20)])\n"
   ]
  },
  {
   "cell_type": "code",
   "execution_count": 7,
   "metadata": {
    "slideshow": {
     "slide_type": "slide"
    }
   },
   "outputs": [
    {
     "data": {
      "application/vnd.jupyter.widget-view+json": {
       "model_id": "b0b673ebcacd4dd597ac8d9e7c5611ba",
       "version_major": 2,
       "version_minor": 0
      },
      "text/plain": [
       "HBox(children=(Play(value=50, description='Press play'), IntSlider(value=0)))"
      ]
     },
     "metadata": {},
     "output_type": "display_data"
    }
   ],
   "source": [
    "#ANIMATION\n",
    "#Appel de fonction\n",
    "#from ipywidgets import widgets\n",
    "#from IPython.display import display\n",
    "play = widgets.Play(value=50,min=0,max=100,step=1,description=\"Press play\",disabled=False)\n",
    "slider = widgets.IntSlider()\n",
    "widgets.jslink((play, 'value'), (slider, 'value')) #liéer deux widgets, jusqu'à séparation\n",
    "widgets.HBox([play, slider])"
   ]
  },
  {
   "cell_type": "markdown",
   "metadata": {
    "slideshow": {
     "slide_type": "slide"
    }
   },
   "source": [
    "## Deuxième partie - Jupyter Notebook interactif en ligne\n",
    "\n",
    "Jupyter Notebook interactif (nbinteract) en ligne en liaison Binder jusqu'à GitHub "
   ]
  },
  {
   "cell_type": "markdown",
   "metadata": {
    "slideshow": {
     "slide_type": "slide"
    }
   },
   "source": [
    "Forme d'un lien GitHub: https://(user_name).github.io/(repository)/(code_name).html\n",
    "\n",
    "Exemple: https://aram1skun.github.io/nbinteract-tutorial/Main.html\n",
    "\n",
    "Problème de l'exemple ne montrant pas les widgets...\n",
    "\n",
    "Binder URL de mon JupyterHub à partir de mon GitHub: https://mybinder.org/v2/gh/Aram1skun/nbinteract-tutorial/master\n",
    "\n",
    "##### Pour sauvegarder les changements, dans un nouveau terminal: \n",
    "\n",
    "git add -A\n",
    "\n",
    "git commit -m -a (-a for all or precise with 'Main.ipynb' for exemple)\n",
    "\n",
    "git push origin master"
   ]
  },
  {
   "cell_type": "code",
   "execution_count": null,
   "metadata": {},
   "outputs": [],
   "source": []
  },
  {
   "cell_type": "code",
   "execution_count": null,
   "metadata": {},
   "outputs": [],
   "source": []
  },
  {
   "cell_type": "code",
   "execution_count": null,
   "metadata": {},
   "outputs": [],
   "source": []
  }
 ],
 "metadata": {
  "kernelspec": {
   "display_name": "Python 3",
   "language": "python",
   "name": "python3"
  },
  "language_info": {
   "codemirror_mode": {
    "name": "ipython",
    "version": 3
   },
   "file_extension": ".py",
   "mimetype": "text/x-python",
   "name": "python",
   "nbconvert_exporter": "python",
   "pygments_lexer": "ipython3",
   "version": "3.6.6"
  },
  "rise": {
   "backimage": "background.jpg"
  }
 },
 "nbformat": 4,
 "nbformat_minor": 2
}
