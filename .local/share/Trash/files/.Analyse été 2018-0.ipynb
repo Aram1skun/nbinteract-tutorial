{
 "cells": [
  {
   "cell_type": "markdown",
   "metadata": {
    "slideshow": {
     "slide_type": "slide"
    }
   },
   "source": [
    "## Analyse des données de température et position \n",
    "\n",
    "#### Nicolas Cloutier\n",
    "\n",
    "#### 01-09-2018"
   ]
  },
  {
   "cell_type": "code",
   "execution_count": 54,
   "metadata": {
    "slideshow": {
     "slide_type": "-"
    }
   },
   "outputs": [],
   "source": [
    "#################################\n",
    "#Appel de fonction\n",
    "#################################\n",
    "from ipywidgets import widgets\n",
    "from IPython.display import display\n",
    "from ipywidgets import interact, interactive, fixed, interact_manual\n",
    "\n",
    "\n",
    "import pandas as pd\n",
    "import numpy as np\n",
    "import matplotlib.pyplot as plt\n",
    "import scipy.fftpack \n",
    "from scipy.signal import butter, sosfiltfilt, sosfreqz\n",
    "\n"
   ]
  },
  {
   "cell_type": "code",
   "execution_count": 55,
   "metadata": {
    "slideshow": {
     "slide_type": "slide"
    }
   },
   "outputs": [],
   "source": [
    "##########################################################\n",
    "#Local variable definition\n",
    "##########################################################\n",
    "\n",
    "#Spindle rotation in Hertz \n",
    "#Note: Need an integer \n",
    "pf=21\n",
    "#Sampling frequency in Hertz of the thermocouple acquisition\n",
    "fs = 1000.0\n",
    "#Order of the Butterworth bandpass filter\n",
    "#Note:See graph to determine ne order to apply\n",
    "order=3\n",
    "#Highpass frequency of the filter\n",
    "lowcut = 2\n",
    "#Lowpass frequency of the filter\n",
    "highcut = 50\n",
    "\n",
    "#Selection of the data te be use in the analysis (application of a fixed window over the excell data)\n",
    "#Note:Works independantly of the skiprows function in the reading of the excell\n",
    "#Note:Indexing begin at 0\n",
    "start=10000\n",
    "end=12100\n",
    "N=end-start\n"
   ]
  },
  {
   "cell_type": "code",
   "execution_count": 59,
   "metadata": {},
   "outputs": [],
   "source": [
    "########################################################\n",
    "#Definition for the Butterworth bandpass filter\n",
    "########################################################\n",
    "def butter_bandpass(lowcut, highcut, fs, order):\n",
    "        nyq = 0.5 * fs\n",
    "        low = lowcut / nyq\n",
    "        high = highcut / nyq\n",
    "        sos = butter(order, [low, high], analog=False, btype='band', output='sos')\n",
    "        w, h = sosfreqz(sos, worN=2000)\n",
    "        plt.plot((fs * 0.5 / np.pi) * w, abs(h), label=\"order = %d\" % order)\n",
    "        plt.xlabel('Frequency (Hz)')\n",
    "        plt.ylabel('Gain')\n",
    "        plt.title('Butterworth filter frequency response')\n",
    "        plt.grid(True)\n",
    "        plt.legend(loc='best')\n",
    "        plt.axis([0,60,0,1.2])\n",
    "        plt.show()\n",
    "        return sos\n",
    "\n",
    "def butter_bandpass_filter(data, lowcut, highcut, fs, order):\n",
    "        sos = butter_bandpass(lowcut, highcut, fs, order)\n",
    "        y = sosfiltfilt(sos, data)\n",
    "        return y\n"
   ]
  },
  {
   "cell_type": "code",
   "execution_count": 64,
   "metadata": {},
   "outputs": [
    {
     "data": {
      "application/vnd.jupyter.widget-view+json": {
       "model_id": "49fb8ddc40bf49fcb9be3dbee22ac2b8",
       "version_major": 2,
       "version_minor": 0
      },
      "text/plain": [
       "interactive(children=(Dropdown(description='lowcut', options=(5, 10, 15), value=5), Dropdown(description='high…"
      ]
     },
     "metadata": {},
     "output_type": "display_data"
    }
   ],
   "source": [
    "#######################################################\n",
    "#Slider for the filtering order\n",
    "#######################################################\n",
    "\n",
    "#######################################################\n",
    "#Illustration of the filter frequency response\n",
    "#######################################################        \n",
    "#sos = butter_bandpass(lowcut, highcut, fs, order)\n",
    "#w, h = sosfreqz(sos, worN=2000)\n",
    "#plt.figure(1)\n",
    "#plt.clf()\n",
    "#for order in [3, 6, 9, 12, 15]:\n",
    "#sos = butter_bandpass(lowcut, highcut, fs, order)\n",
    "#w, h = sosfreqz(sos, worN=2000)\n",
    "#plt.plot((fs * 0.5 / np.pi) * w, abs(h), label=\"order = %d\" % order)\n",
    "#plt.xlabel('Frequency (Hz)')\n",
    "#plt.ylabel('Gain')\n",
    "#plt.title('Butterworth filter frequency response')\n",
    "#plt.grid(True)\n",
    "#plt.legend(loc='best')\n",
    "#plt.axis([0,60,0,1.2])\n",
    "#plt.show()\n",
    "\n",
    "q=interactive(butter_bandpass,lowcut=[5,10,15],highcut=[15,20,25,30],\n",
    "              fs=[1000,2000],order=[2,4,6,8,10,12,14,16])\n",
    "display(q)\n"
   ]
  },
  {
   "cell_type": "code",
   "execution_count": null,
   "metadata": {},
   "outputs": [],
   "source": []
  },
  {
   "cell_type": "code",
   "execution_count": null,
   "metadata": {},
   "outputs": [],
   "source": []
  }
 ],
 "metadata": {
  "celltoolbar": "Slideshow",
  "kernelspec": {
   "display_name": "Python 3",
   "language": "python",
   "name": "python3"
  },
  "language_info": {
   "codemirror_mode": {
    "name": "ipython",
    "version": 3
   },
   "file_extension": ".py",
   "mimetype": "text/x-python",
   "name": "python",
   "nbconvert_exporter": "python",
   "pygments_lexer": "ipython3",
   "version": "3.6.6"
  }
 },
 "nbformat": 4,
 "nbformat_minor": 2
}
