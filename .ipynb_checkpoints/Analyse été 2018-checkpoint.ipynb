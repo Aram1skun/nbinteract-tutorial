{
 "cells": [
  {
   "cell_type": "markdown",
   "metadata": {
    "slideshow": {
     "slide_type": "slide"
    }
   },
   "source": [
    "## Analyse des données de température et position \n",
    "\n",
    "#### Nicolas Cloutier\n",
    "\n",
    "#### 01-09-2018"
   ]
  },
  {
   "cell_type": "code",
   "execution_count": 20,
   "metadata": {
    "slideshow": {
     "slide_type": "-"
    }
   },
   "outputs": [
    {
     "ename": "ModuleNotFoundError",
     "evalue": "No module named 'seaborn'",
     "output_type": "error",
     "traceback": [
      "\u001b[0;31m---------------------------------------------------------------------------\u001b[0m",
      "\u001b[0;31mModuleNotFoundError\u001b[0m                       Traceback (most recent call last)",
      "\u001b[0;32m<ipython-input-20-488d321c7052>\u001b[0m in \u001b[0;36m<module>\u001b[0;34m()\u001b[0m\n\u001b[1;32m     13\u001b[0m \u001b[0;32mfrom\u001b[0m \u001b[0mscipy\u001b[0m\u001b[0;34m.\u001b[0m\u001b[0msignal\u001b[0m \u001b[0;32mimport\u001b[0m \u001b[0mbutter\u001b[0m\u001b[0;34m,\u001b[0m \u001b[0msosfiltfilt\u001b[0m\u001b[0;34m,\u001b[0m \u001b[0msosfreqz\u001b[0m\u001b[0;34m\u001b[0m\u001b[0m\n\u001b[1;32m     14\u001b[0m \u001b[0;34m\u001b[0m\u001b[0m\n\u001b[0;32m---> 15\u001b[0;31m \u001b[0;32mimport\u001b[0m \u001b[0mseaborn\u001b[0m\u001b[0;34m\u001b[0m\u001b[0m\n\u001b[0m",
      "\u001b[0;31mModuleNotFoundError\u001b[0m: No module named 'seaborn'"
     ]
    }
   ],
   "source": [
    "#################################\n",
    "#Appel de fonction\n",
    "#################################\n",
    "from ipywidgets import widgets\n",
    "from IPython.display import display, HTML\n",
    "from ipywidgets import interact, interactive, fixed, interact_manual\n",
    "\n",
    "\n",
    "import pandas as pd\n",
    "import numpy as np\n",
    "import matplotlib.pyplot as plt\n",
    "import scipy.fftpack \n",
    "from scipy.signal import butter, sosfiltfilt, sosfreqz\n",
    "\n",
    "import seaborn\n",
    "\n"
   ]
  },
  {
   "cell_type": "code",
   "execution_count": 21,
   "metadata": {},
   "outputs": [
    {
     "data": {
      "text/html": [
       "<script>\n",
       "code_show=true; \n",
       "function code_toggle() {\n",
       " if (code_show){\n",
       " $('div.input').hide();\n",
       " } else {\n",
       " $('div.input').show();\n",
       " }\n",
       " code_show = !code_show\n",
       "} \n",
       "$( document ).ready(code_toggle);\n",
       "</script>\n",
       "The raw code for this IPython notebook is by default hidden for easier reading.\n",
       "To toggle on/off the raw code, click <a href=\"javascript:code_toggle()\">here</a>."
      ],
      "text/plain": [
       "<IPython.core.display.HTML object>"
      ]
     },
     "execution_count": 21,
     "metadata": {},
     "output_type": "execute_result"
    }
   ],
   "source": [
    "HTML('''<script>\n",
    "code_show=true; \n",
    "function code_toggle() {\n",
    " if (code_show){\n",
    " $('div.input').hide();\n",
    " } else {\n",
    " $('div.input').show();\n",
    " }\n",
    " code_show = !code_show\n",
    "} \n",
    "$( document ).ready(code_toggle);\n",
    "</script>\n",
    "The raw code for this IPython notebook is by default hidden for easier reading.\n",
    "To toggle on/off the raw code, click <a href=\"javascript:code_toggle()\">here</a>.''')"
   ]
  },
  {
   "cell_type": "code",
   "execution_count": 22,
   "metadata": {
    "slideshow": {
     "slide_type": "slide"
    }
   },
   "outputs": [],
   "source": [
    "##########################################################\n",
    "#Local variable definition\n",
    "##########################################################\n",
    "\n",
    "#Spindle rotation in Hertz \n",
    "#Note: Need an integer \n",
    "pf=21\n",
    "#Sampling frequency in Hertz of the thermocouple acquisition\n",
    "fs = 1000.0\n",
    "#Order of the Butterworth bandpass filter\n",
    "#Note:See graph to determine ne order to apply\n",
    "order=3\n",
    "#Highpass frequency of the filter\n",
    "lowcut = 2\n",
    "#Lowpass frequency of the filter\n",
    "highcut = 50\n",
    "\n",
    "#Selection of the data te be use in the analysis (application of a fixed window over the excell data)\n",
    "#Note:Works independantly of the skiprows function in the reading of the excell\n",
    "#Note:Indexing begin at 0\n",
    "start=10000\n",
    "end=12100\n",
    "N=end-start\n"
   ]
  },
  {
   "cell_type": "code",
   "execution_count": 46,
   "metadata": {},
   "outputs": [],
   "source": [
    "########################################################\n",
    "#Definition for the Butterworth bandpass filter\n",
    "########################################################\n",
    "def butter_bandpass(lowcut, highcut, fs, order):\n",
    "        nyq = 0.5 * fs\n",
    "        low = lowcut / nyq\n",
    "        high = highcut / nyq\n",
    "        sos = butter(order, [low, high], analog=False, btype='band', output='sos')\n",
    "        w, h = sosfreqz(sos, worN=2000)\n",
    "        plt.plot((fs * 0.5 / np.pi) * w, abs(h), label=\"order = %d\" % order)\n",
    "        plt.xlabel('Frequency (Hz)')\n",
    "        plt.ylabel('Gain')\n",
    "        plt.title('Butterworth filter frequency response')\n",
    "        plt.grid(True)\n",
    "        plt.legend(loc='best')\n",
    "        plt.axis([0,60,0,1.2])\n",
    "        plt.show()\n",
    "#        return sos\n",
    "        return order\n",
    "\n",
    "def butter_bandpass_filter(data, lowcut, highcut, fs, order):\n",
    "        sos = butter_bandpass(lowcut, highcut, fs, order)\n",
    "        y = sosfiltfilt(sos, data)\n",
    "        return y\n"
   ]
  },
  {
   "cell_type": "code",
   "execution_count": 47,
   "metadata": {},
   "outputs": [],
   "source": [
    "#######################################################\n",
    "#Slider for the filtering order\n",
    "#######################################################\n",
    "\n",
    "#######################################################\n",
    "#Illustration of the filter frequency response\n",
    "#######################################################        \n",
    "#sos = butter_bandpass(lowcut, highcut, fs, order)\n",
    "#w, h = sosfreqz(sos, worN=2000)\n",
    "#plt.figure(1)\n",
    "#plt.clf()\n",
    "#for order in [3, 6, 9, 12, 15]:\n",
    "#sos = butter_bandpass(lowcut, highcut, fs, order)\n",
    "#w, h = sosfreqz(sos, worN=2000)\n",
    "#plt.plot((fs * 0.5 / np.pi) * w, abs(h), label=\"order = %d\" % order)\n",
    "#plt.xlabel('Frequency (Hz)')\n",
    "#plt.ylabel('Gain')\n",
    "#plt.title('Butterworth filter frequency response')\n",
    "#plt.grid(True)\n",
    "#plt.legend(loc='best')\n",
    "#plt.axis([0,60,0,1.2])\n",
    "#plt.show()\n",
    "\n",
    "play = widgets.Play(value=1,min=1,max=50,step=1,description=\"Press play\",disabled=False)\n",
    "#widgets.jslink((play, 'value'), (slider, 'value')) #liéer deux widgets, jusqu'à séparation\n",
    "#widgets.HBox([play, slider])\n",
    "\n",
    "sliders=interactive(butter_bandpass,lowcut=[5,10,15],highcut=[15,20,25,30],\n",
    "              fs=[1000,2000],order=play)\n",
    "\n",
    "\n",
    "\n",
    "#display(sliders)\n",
    "\n"
   ]
  },
  {
   "cell_type": "code",
   "execution_count": 59,
   "metadata": {
    "scrolled": true
   },
   "outputs": [],
   "source": [
    "play = widgets.Play(\n",
    "#     interval=10,\n",
    "    value=50,\n",
    "    min=1,\n",
    "    max=100,\n",
    "    step=1,\n",
    "    description=\"Press play\",\n",
    "    disabled=False\n",
    ")\n",
    "slider = widgets.IntSlider()\n",
    "widgets.jslink((play, 'value'), (slider, 'value'))\n",
    "widgets.HBox([play, slider])\n",
    "\n",
    "w = interactive(butter_bandpass,lowcut=[5,10,15],highcut=[15,20,25,30],fs=[1000,2000],order=play)\n",
    "\n",
    "#type(w)\n",
    "\n",
    "#w.children\n",
    "\n",
    "#display(w)\n",
    "\n",
    "widgets.HBox([play, slider])\n",
    "\n",
    "#w.kwargs\n",
    "\n",
    "w.result\n",
    "\n"
   ]
  },
  {
   "cell_type": "code",
   "execution_count": null,
   "metadata": {},
   "outputs": [],
   "source": []
  },
  {
   "cell_type": "code",
   "execution_count": null,
   "metadata": {},
   "outputs": [],
   "source": []
  }
 ],
 "metadata": {
  "celltoolbar": "Slideshow",
  "kernelspec": {
   "display_name": "Python 3",
   "language": "python",
   "name": "python3"
  },
  "language_info": {
   "codemirror_mode": {
    "name": "ipython",
    "version": 3
   },
   "file_extension": ".py",
   "mimetype": "text/x-python",
   "name": "python",
   "nbconvert_exporter": "python",
   "pygments_lexer": "ipython3",
   "version": "3.6.6"
  }
 },
 "nbformat": 4,
 "nbformat_minor": 2
}
