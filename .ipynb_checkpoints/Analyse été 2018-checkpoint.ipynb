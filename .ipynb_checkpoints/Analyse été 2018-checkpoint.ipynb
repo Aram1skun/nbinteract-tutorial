{
 "cells": [
  {
   "cell_type": "markdown",
   "metadata": {
    "slideshow": {
     "slide_type": "slide"
    }
   },
   "source": [
    "## Analyse des données de température et position \n",
    "\n",
    "#### Nicolas Cloutier\n",
    "\n",
    "#### 01-09-2018"
   ]
  },
  {
   "cell_type": "code",
   "execution_count": 1,
   "metadata": {
    "slideshow": {
     "slide_type": "-"
    }
   },
   "outputs": [],
   "source": [
    "#################################\n",
    "#Appel de fonction\n",
    "#################################\n",
    "from ipywidgets import widgets\n",
    "from IPython.display import display, HTML\n",
    "from ipywidgets import interact, interactive, fixed, interact_manual\n",
    "\n",
    "\n",
    "import pandas as pd\n",
    "import numpy as np\n",
    "import matplotlib.pyplot as plt\n",
    "import scipy.fftpack \n",
    "from scipy.signal import butter, sosfiltfilt, sosfreqz\n",
    "\n"
   ]
  },
  {
   "cell_type": "code",
   "execution_count": 2,
   "metadata": {},
   "outputs": [
    {
     "data": {
      "text/html": [
       "<script>\n",
       "code_show=true; \n",
       "function code_toggle() {\n",
       " if (code_show){\n",
       " $('div.input').hide();\n",
       " } else {\n",
       " $('div.input').show();\n",
       " }\n",
       " code_show = !code_show\n",
       "} \n",
       "$( document ).ready(code_toggle);\n",
       "</script>\n",
       "The raw code for this IPython notebook is by default hidden for easier reading.\n",
       "To toggle on/off the raw code, click <a href=\"javascript:code_toggle()\">here</a>."
      ],
      "text/plain": [
       "<IPython.core.display.HTML object>"
      ]
     },
     "execution_count": 2,
     "metadata": {},
     "output_type": "execute_result"
    }
   ],
   "source": [
    "HTML('''<script>\n",
    "code_show=true; \n",
    "function code_toggle() {\n",
    " if (code_show){\n",
    " $('div.input').hide();\n",
    " } else {\n",
    " $('div.input').show();\n",
    " }\n",
    " code_show = !code_show\n",
    "} \n",
    "$( document ).ready(code_toggle);\n",
    "</script>\n",
    "The raw code for this IPython notebook is by default hidden for easier reading.\n",
    "To toggle on/off the raw code, click <a href=\"javascript:code_toggle()\">here</a>.''')"
   ]
  },
  {
   "cell_type": "code",
   "execution_count": 3,
   "metadata": {
    "slideshow": {
     "slide_type": "slide"
    }
   },
   "outputs": [],
   "source": [
    "##########################################################\n",
    "#Local variable definition\n",
    "##########################################################\n",
    "\n",
    "#Spindle rotation in Hertz \n",
    "#Note: Need an integer \n",
    "pf=21\n",
    "#Sampling frequency in Hertz of the thermocouple acquisition\n",
    "fs = 1000.0\n",
    "#Order of the Butterworth bandpass filter\n",
    "#Note:See graph to determine ne order to apply\n",
    "order=3\n",
    "#Highpass frequency of the filter\n",
    "lowcut = 2\n",
    "#Lowpass frequency of the filter\n",
    "highcut = 50\n",
    "\n",
    "#Selection of the data te be use in the analysis (application of a fixed window over the excell data)\n",
    "#Note:Works independantly of the skiprows function in the reading of the excell\n",
    "#Note:Indexing begin at 0\n",
    "start=10000\n",
    "end=12100\n",
    "N=end-start\n"
   ]
  },
  {
   "cell_type": "code",
   "execution_count": 4,
   "metadata": {},
   "outputs": [],
   "source": [
    "########################################################\n",
    "#Definition for the Butterworth bandpass filter\n",
    "########################################################\n",
    "def butter_bandpass_for_animation(lowcut, highcut, fs, order):\n",
    "        nyq = 0.5 * fs\n",
    "        low = lowcut / nyq\n",
    "        high = highcut / nyq\n",
    "        sos = butter(order, [low, high], analog=False, btype='band', output='sos')\n",
    "        w, h = sosfreqz(sos, worN=2000)\n",
    "        plt.plot((fs * 0.5 / np.pi) * w, abs(h), label=\"order = %d\" % order)\n",
    "        plt.xlabel('Frequency (Hz)')\n",
    "        plt.ylabel('Gain')\n",
    "        plt.title('Butterworth filter frequency response')\n",
    "        plt.grid(True)\n",
    "        plt.legend(loc='best')\n",
    "        plt.axis([0,60,0,1.2])\n",
    "        plt.show()\n",
    "#        return sos\n",
    "        return order\n"
   ]
  },
  {
   "cell_type": "code",
   "execution_count": 6,
   "metadata": {},
   "outputs": [],
   "source": [
    "#######################################################\n",
    "#Slider for the filtering order\n",
    "#######################################################\n",
    "\n",
    "#######################################################\n",
    "#Illustration of the filter frequency response\n",
    "#######################################################        \n",
    "#sos = butter_bandpass(lowcut, highcut, fs, order)\n",
    "#w, h = sosfreqz(sos, worN=2000)\n",
    "#plt.figure(1)\n",
    "#plt.clf()\n",
    "#for order in [3, 6, 9, 12, 15]:\n",
    "#sos = butter_bandpass(lowcut, highcut, fs, order)\n",
    "#w, h = sosfreqz(sos, worN=2000)\n",
    "#plt.plot((fs * 0.5 / np.pi) * w, abs(h), label=\"order = %d\" % order)\n",
    "#plt.xlabel('Frequency (Hz)')\n",
    "#plt.ylabel('Gain')\n",
    "#plt.title('Butterworth filter frequency response')\n",
    "#plt.grid(True)\n",
    "#plt.legend(loc='best')\n",
    "#plt.axis([0,60,0,1.2])\n",
    "#plt.show()\n",
    "\n",
    "play = widgets.Play(value=1,min=1,max=50,step=1,description=\"Press play\",disabled=False)\n",
    "#widgets.jslink((play, 'value'), (slider, 'value')) #liéer deux widgets, jusqu'à séparation\n",
    "#widgets.HBox([play, slider])\n",
    "\n",
    "sliders=interactive(butter_bandpass_for_animation,lowcut=[5,10,15],highcut=[15,20,25,30],\n",
    "              fs=[1000,2000],order=play)\n",
    "\n",
    "\n",
    "\n",
    "#display(sliders)\n",
    "\n"
   ]
  },
  {
   "cell_type": "code",
   "execution_count": 31,
   "metadata": {
    "scrolled": true,
    "slideshow": {
     "slide_type": "slide"
    }
   },
   "outputs": [
    {
     "data": {
      "application/vnd.jupyter.widget-view+json": {
       "model_id": "8d8671155fe84b1f8bb6ac48e7a72fcf",
       "version_major": 2,
       "version_minor": 0
      },
      "text/plain": [
       "interactive(children=(Dropdown(description='lowcut', options=(5, 10, 15), value=5), Dropdown(description='high…"
      ]
     },
     "metadata": {},
     "output_type": "display_data"
    },
    {
     "data": {
      "text/plain": [
       "1"
      ]
     },
     "execution_count": 31,
     "metadata": {},
     "output_type": "execute_result"
    }
   ],
   "source": [
    "play = widgets.Play(\n",
    "#     interval=10,\n",
    "    value=1,\n",
    "    min=1,\n",
    "    max=40,\n",
    "    step=1,\n",
    "    description=\"Press play\",\n",
    "    disabled=False\n",
    ")\n",
    "slider = widgets.IntSlider()\n",
    "widgets.jslink((play, 'value'), (slider, 'value'))\n",
    "widgets.HBox([play, slider])\n",
    "\n",
    "w = interactive(butter_bandpass_for_animation,lowcut=[5,10,15],highcut=[15,20,25,30],fs=[1000,2000],order=play)\n",
    "\n",
    "#type(w)\n",
    "\n",
    "#w.children\n",
    "\n",
    "display(w)\n",
    "\n",
    "#widgets.HBox([play, slider])\n",
    "\n",
    "#w.kwargs\n",
    "\n",
    "w.result\n",
    "\n"
   ]
  },
  {
   "cell_type": "code",
   "execution_count": 32,
   "metadata": {},
   "outputs": [
    {
     "data": {
      "application/vnd.jupyter.widget-view+json": {
       "model_id": "33d2a71205694a9bb42a4d9d2c3402f7",
       "version_major": 2,
       "version_minor": 0
      },
      "text/plain": [
       "interactive(children=(Dropdown(description='lowcut', options=(5, 10, 15), value=5), Dropdown(description='high…"
      ]
     },
     "metadata": {},
     "output_type": "display_data"
    }
   ],
   "source": [
    "slider = widgets.IntSlider()\n",
    "widgets.jslink((play, 'value'), (slider, 'value'))\n",
    "widgets.HBox([play, slider])\n",
    "\n",
    "z = interactive(butter_bandpass_for_animation,lowcut=[5,10,15],highcut=[15,20,25,30],fs=[1000,2000],order=[1,2,3,4,5,6,7,8,9,10])\n",
    "\n",
    "display(z)"
   ]
  },
  {
   "cell_type": "code",
   "execution_count": 19,
   "metadata": {},
   "outputs": [],
   "source": [
    "#####################################################\n",
    "#Extracting data from csv file\n",
    "#Note:Column indexing start at 0\n",
    "#Note:Skiprows eliminate the header in the excell\n",
    "#####################################################\n",
    "\n",
    "#Reading the filre with Pandas\n",
    "df=pd.read_csv(\"a.csv\",skiprows=8,usecols=[2])\n",
    "#Removing axis label from the Pandas dataframe to retain only the values\n",
    "data=df.values\n",
    "#Shaping the dataframe to obtain an 1D array\n",
    "data=data.ravel()\n",
    "#Obtaining the size of the data import from the excell\n",
    "I=data.size\n",
    "#Keeping in memory the initial data import\n",
    "datai=data"
   ]
  },
  {
   "cell_type": "code",
   "execution_count": 23,
   "metadata": {},
   "outputs": [
    {
     "data": {
      "text/plain": [
       "10"
      ]
     },
     "execution_count": 23,
     "metadata": {},
     "output_type": "execute_result"
    }
   ],
   "source": [
    "z.result"
   ]
  },
  {
   "cell_type": "code",
   "execution_count": 20,
   "metadata": {},
   "outputs": [
    {
     "data": {
      "image/png": "[encoded data removed]",
      "text/plain": [
       "<Figure size 432x288 with 1 Axes>"
      ]
     },
     "metadata": {},
     "output_type": "display_data"
    }
   ],
   "source": [
    "#####################################################\n",
    "#Illustration of complete raw data from file\n",
    "#####################################################\n",
    "\n",
    "plt.figure(2)\n",
    "xi = np.linspace(0.0,I/fs,I)\n",
    "plt.plot(xi,data)\n",
    "plt.title('Complete raw data')\n",
    "plt.ylabel('Volt')\n",
    "plt.xlabel('Time')\n",
    "plt.show()"
   ]
  },
  {
   "cell_type": "code",
   "execution_count": 24,
   "metadata": {},
   "outputs": [],
   "source": [
    "#####################################################\n",
    "#Numpy array slicing numpyarray[start:end:step]\n",
    "#####################################################\n",
    "#Note:Numpy array indexing begin at 0\n",
    "data=data[start:end:1]"
   ]
  },
  {
   "cell_type": "code",
   "execution_count": null,
   "metadata": {},
   "outputs": [],
   "source": []
  },
  {
   "cell_type": "code",
   "execution_count": 35,
   "metadata": {},
   "outputs": [
    {
     "name": "stderr",
     "output_type": "stream",
     "text": [
      "/srv/conda/lib/python3.6/site-packages/scipy/signal/_arraytools.py:45: FutureWarning: Using a non-tuple sequence for multidimensional indexing is deprecated; use `arr[tuple(seq)]` instead of `arr[seq]`. In the future this will be interpreted as an array index, `arr[np.array(seq)]`, which will result either in an error or a different result.\n",
      "  b = a[a_slice]\n"
     ]
    }
   ],
   "source": [
    "#####################################################\n",
    "#Applying butterworth bandpass filter to data\n",
    "#####################################################\n",
    "\n",
    "def butter_bandpass(lowcut, highcut, fs, order=order):\n",
    "        nyq = 0.5 * fs\n",
    "        low = lowcut / nyq\n",
    "        high = highcut / nyq\n",
    "        sos = butter(order, [low, high], analog=False, btype='band', output='sos')\n",
    "        return sos\n",
    "\n",
    "def butter_bandpass_filter(data, lowcut, highcut, fs, order=order):\n",
    "        sos = butter_bandpass(lowcut, highcut, fs, order=order)\n",
    "        y = sosfiltfilt(sos, data)\n",
    "        return y\n",
    "\n",
    "\n",
    "dataf = butter_bandpass_filter(data,lowcut, highcut, fs, order=z.result)"
   ]
  },
  {
   "cell_type": "code",
   "execution_count": 37,
   "metadata": {},
   "outputs": [
    {
     "data": {
      "image/png": "[encoded data removed]",
      "text/plain": [
       "<Figure size 432x288 with 2 Axes>"
      ]
     },
     "metadata": {},
     "output_type": "display_data"
    }
   ],
   "source": [
    "#####################################################\n",
    "#Some graph\n",
    "#####################################################\n",
    "\n",
    "#illustration of figure 3\n",
    "plt.figure(3)\n",
    "x = np.linspace(0.0, N/fs, N)\n",
    "\n",
    "#Raw data graph\n",
    "plt.subplot(321)\n",
    "plt.plot(x,data)\n",
    "plt.title('Raw data')\n",
    "plt.ylabel('Volt')\n",
    "plt.xlabel('Time')\n",
    "\n",
    "#Filtered data\n",
    "plt.subplot(322)\n",
    "plt.plot(x,dataf)\n",
    "plt.title('Filtered data')\n",
    "plt.ylabel('Volt')\n",
    "plt.xlabel('Time')\n",
    "plt.show()"
   ]
  },
  {
   "cell_type": "code",
   "execution_count": null,
   "metadata": {},
   "outputs": [],
   "source": []
  },
  {
   "cell_type": "code",
   "execution_count": 41,
   "metadata": {},
   "outputs": [
    {
     "name": "stderr",
     "output_type": "stream",
     "text": [
      "/srv/conda/lib/python3.6/site-packages/ipykernel_launcher.py:10: DeprecationWarning: object of type <class 'float'> cannot be safely interpreted as an integer.\n",
      "  # Remove the CWD from sys.path while we load stuff.\n",
      "/srv/conda/lib/python3.6/site-packages/ipykernel_launcher.py:11: DeprecationWarning: object of type <class 'float'> cannot be safely interpreted as an integer.\n",
      "  # This is added back by InteractiveShellApp.init_path()\n"
     ]
    },
    {
     "data": {
      "image/png": "[encoded data removed]",
      "text/plain": [
       "<Figure size 432x288 with 2 Axes>"
      ]
     },
     "metadata": {},
     "output_type": "display_data"
    },
    {
     "name": "stderr",
     "output_type": "stream",
     "text": [
      "/srv/conda/lib/python3.6/site-packages/matplotlib/axes/_base.py:3157: UserWarning: Attempted to set non-positive xlimits for log-scale axis; invalid limits will be ignored.\n",
      "  'Attempted to set non-positive xlimits for log-scale axis; '\n"
     ]
    },
    {
     "data": {
      "image/png": "[encoded data removed]",
      "text/plain": [
       "<Figure size 432x288 with 3 Axes>"
      ]
     },
     "metadata": {},
     "output_type": "display_data"
    },
    {
     "data": {
      "image/png": "[encoded data removed]",
      "text/plain": [
       "<Figure size 432x288 with 1 Axes>"
      ]
     },
     "metadata": {},
     "output_type": "display_data"
    },
    {
     "data": {
      "image/png": "[encoded data removed]",
      "text/plain": [
       "<Figure size 432x288 with 1 Axes>"
      ]
     },
     "metadata": {},
     "output_type": "display_data"
    }
   ],
   "source": [
    "######################################################\n",
    "#Fourrier transform FFT\n",
    "######################################################\n",
    "\n",
    "dataid=scipy.signal.detrend(datai)\n",
    "yi = scipy.fftpack.fft(datai)\n",
    "yf = scipy.fftpack.fft(data)\n",
    "yff= scipy.fftpack.fft(dataf)\n",
    "yidf=scipy.fftpack.fft(dataid)\n",
    "xf = np.linspace(0.0, 1.0/(2.0/fs), N/2)\n",
    "xif = np.linspace(0.0, 1.0/(2.0/fs), I/2)\n",
    "\n",
    "plt.subplot(312)\n",
    "plt.plot(xf,2.0/N * np.abs(yff[:N//2]))\n",
    "plt.title('FFT filtered')\n",
    "plt.ylabel('Density')\n",
    "plt.xlabel('Frequency')\n",
    "plt.yscale('linear')\n",
    "plt.xscale('linear')\n",
    "plt.axis([0,40,0,0.003])\n",
    "\n",
    "plt.subplot(313)\n",
    "plt.plot(xf,2.0/N * np.abs(yf[:N//2]))\n",
    "plt.title('FFT')\n",
    "plt.ylabel('Density')\n",
    "plt.xlabel('Frequency')\n",
    "plt.yscale('linear')\n",
    "plt.xscale('linear')\n",
    "plt.axis([0,150,0,0.1])\n",
    "plt.show()\n",
    "\n",
    "plt.figure(4)\n",
    "\n",
    "plt.subplot(311)\n",
    "xi = np.linspace(0.0,I/fs,I)\n",
    "plt.plot(xi,datai)\n",
    "\n",
    "plt.subplot(312)\n",
    "plt.plot(xf,2.0/N * np.abs(yf[:N//2]))\n",
    "plt.xscale('log')\n",
    "plt.axis([0,fs/2,0,0.005])\n",
    "plt.title('FFT unfiltered log x axis')\n",
    "\n",
    "plt.subplot(313)\n",
    "plt.plot(xif,2.0/I * np.abs(yi[:I//2]))\n",
    "plt.title('FFT')\n",
    "plt.ylabel('Density')\n",
    "plt.xlabel('Frequency')\n",
    "plt.yscale('linear')\n",
    "plt.xscale('linear')\n",
    "plt.axis([0,(1*fs)/2,0,0.003])\n",
    "plt.show()\n",
    "\n",
    "plt.figure(5)\n",
    "plt.plot(xif,2.0/I * np.abs(yidf[:I//2]))\n",
    "plt.title('FFT')\n",
    "plt.ylabel('Density')\n",
    "plt.xlabel('Frequency')\n",
    "plt.yscale('linear')\n",
    "plt.xscale('linear')\n",
    "plt.axis([0,(1*fs)/2,0,0.003])\n",
    "plt.show()\n",
    "\n",
    "plt.figure(6)\n",
    "plt.plot(xif,2.0/I * np.abs(yidf[:I//2]))\n",
    "plt.title('FFT')\n",
    "plt.ylabel('Density')\n",
    "plt.xlabel('Frequency')\n",
    "plt.yscale('linear')\n",
    "plt.xscale('linear')\n",
    "plt.axis([0,30,0,0.003])\n",
    "plt.show()"
   ]
  },
  {
   "cell_type": "code",
   "execution_count": null,
   "metadata": {},
   "outputs": [],
   "source": []
  }
 ],
 "metadata": {
  "celltoolbar": "Slideshow",
  "kernelspec": {
   "display_name": "Python 3",
   "language": "python",
   "name": "python3"
  },
  "language_info": {
   "codemirror_mode": {
    "name": "ipython",
    "version": 3
   },
   "file_extension": ".py",
   "mimetype": "text/x-python",
   "name": "python",
   "nbconvert_exporter": "python",
   "pygments_lexer": "ipython3",
   "version": "3.6.6"
  }
 },
 "nbformat": 4,
 "nbformat_minor": 2
}
