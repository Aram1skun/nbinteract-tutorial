{
 "cells": [
  {
   "cell_type": "markdown",
   "metadata": {
    "slideshow": {
     "slide_type": "slide"
    }
   },
   "source": [
    "# 23-08-2018, Italia, Toscana, Arezzo;\n",
    "Premier notebook contenant mes informations globales de programmations.\n",
    "\n",
    "Par Nicolas Cloutier\n"
   ]
  },
  {
   "cell_type": "markdown",
   "metadata": {
    "slideshow": {
     "slide_type": "subslide"
    }
   },
   "source": [
    "## Première partie - Widgets sous Jupyter Notebook\n",
    "\n",
    "L'installation des widgets nécessite deux maniulations: \n",
    "\n",
    "I. L'une sur le kernel\n",
    "\n",
    "II.L'autre sur le front end"
   ]
  },
  {
   "cell_type": "code",
   "execution_count": 1,
   "metadata": {
    "slideshow": {
     "slide_type": "fragment"
    }
   },
   "outputs": [
    {
     "data": {
      "application/vnd.jupyter.widget-view+json": {
       "model_id": "b04f4a35c6e64a20a18e5bf5e5c5abf1",
       "version_major": 2,
       "version_minor": 0
      },
      "text/plain": [
       "Text(value='')"
      ]
     },
     "metadata": {},
     "output_type": "display_data"
    }
   ],
   "source": [
    "#TEXT INSERTION WIDGETS\n",
    "#Appel de fonction\n",
    "from ipywidgets import widgets\n",
    "from IPython.display import display\n",
    "\n",
    "text=widgets.Text()\n",
    "display(text)\n",
    "\n",
    "def handle_submit(sender):\n",
    "    print(text.value)\n",
    "    \n",
    "text.on_submit(handle_submit)    "
   ]
  },
  {
   "cell_type": "code",
   "execution_count": 2,
   "metadata": {},
   "outputs": [
    {
     "data": {
      "application/vnd.jupyter.widget-view+json": {
       "model_id": "b652fd5d03244b64b6cdf2f2ce7ea35a",
       "version_major": 2,
       "version_minor": 0
      },
      "text/plain": [
       "Button(description='Click Me!', style=ButtonStyle())"
      ]
     },
     "metadata": {},
     "output_type": "display_data"
    }
   ],
   "source": [
    "#BUTTON WIDGETS\n",
    "#Appel de fonction\n",
    "#from ipywidgets import widgets\n",
    "#from IPython.display import display\n",
    "\n",
    "button=widgets.Button(description=\"Click Me!\")\n",
    "display(button)\n",
    "\n",
    "def on_button_clicked(b):\n",
    "    print(\"Button clicked.\")\n",
    "    \n",
    "    \n",
    "button.on_click(on_button_clicked)\n"
   ]
  },
  {
   "cell_type": "code",
   "execution_count": 3,
   "metadata": {},
   "outputs": [
    {
     "data": {
      "application/vnd.jupyter.widget-view+json": {
       "model_id": "2338caa01ca04351b7d1cf40763d3e40",
       "version_major": 2,
       "version_minor": 0
      },
      "text/plain": [
       "interactive(children=(IntSlider(value=10, description='x', max=30, min=-10), Output()), _dom_classes=('widget-…"
      ]
     },
     "metadata": {},
     "output_type": "display_data"
    },
    {
     "data": {
      "application/vnd.jupyter.widget-view+json": {
       "model_id": "f1c8f9456cb640dfb5aecf51e83d465f",
       "version_major": 2,
       "version_minor": 0
      },
      "text/plain": [
       "interactive(children=(Checkbox(value=False, description='x'), Output()), _dom_classes=('widget-interact',))"
      ]
     },
     "metadata": {},
     "output_type": "display_data"
    },
    {
     "data": {
      "text/plain": [
       "<function __main__.f(x)>"
      ]
     },
     "execution_count": 3,
     "metadata": {},
     "output_type": "execute_result"
    }
   ],
   "source": [
    "#SLIDER AND CHECK BOX WIDGETS\n",
    "#Appel de fonction\n",
    "#from ipywidgets import widgets\n",
    "#from IPython.display import display\n",
    "from ipywidgets import interact\n",
    "def f(x):\n",
    "    return x\n",
    "interact(f,x=widgets.IntSlider(min=-10,max=30,step=1,value=10))\n",
    "interact(f,x=False)    "
   ]
  },
  {
   "cell_type": "code",
   "execution_count": 4,
   "metadata": {},
   "outputs": [
    {
     "data": {
      "application/vnd.jupyter.widget-view+json": {
       "model_id": "c0f5e9c106644e8bb43dbf8d41828973",
       "version_major": 2,
       "version_minor": 0
      },
      "text/plain": [
       "interactive(children=(IntSlider(value=5, description='Température', max=10), IntSlider(value=5, description='V…"
      ]
     },
     "metadata": {},
     "output_type": "display_data"
    },
    {
     "data": {
      "application/vnd.jupyter.widget-view+json": {
       "model_id": "ec0f148412ac4b909f63556873d84bd5",
       "version_major": 2,
       "version_minor": 0
      },
      "text/plain": [
       "interactive(children=(FloatSlider(value=0.5, description='x', max=1.0), FloatSlider(value=0.5, description='y'…"
      ]
     },
     "metadata": {},
     "output_type": "display_data"
    },
    {
     "data": {
      "text/plain": [
       "<function __main__.h(x, y)>"
      ]
     },
     "execution_count": 4,
     "metadata": {},
     "output_type": "execute_result"
    }
   ],
   "source": [
    "#SLIDER MULTI-VARIABLES\n",
    "#Appel de fonction\n",
    "#from ipywidgets import widgets\n",
    "#from IPython.display import display\n",
    "\n",
    "def g(x, y):\n",
    "    return (x, y)\n",
    "\n",
    "interact(g,x=widgets.IntSlider(min=0,max=10,step=1,description='Température',value=5), y=widgets.IntSlider(min=0,max=10,step=1,description='Volt',value=5))\n",
    "\n",
    "def h(x,y):\n",
    "    return(x,y)\n",
    "\n",
    "interact(h,x=widgets.FloatSlider(min=0.0,max=1.0,step=0.1,value=0.5), y=widgets.FloatSlider(min=0.0,max=1.0,step=0.1,value=0.5))\n"
   ]
  },
  {
   "cell_type": "code",
   "execution_count": 5,
   "metadata": {},
   "outputs": [
    {
     "data": {
      "application/vnd.jupyter.widget-view+json": {
       "model_id": "dae4cf0df30b425aa3cf46427f0657f2",
       "version_major": 2,
       "version_minor": 0
      },
      "text/plain": [
       "interactive(children=(Dropdown(description='x', options=(('one', 10), ('two', 20)), value=10), Output()), _dom…"
      ]
     },
     "metadata": {},
     "output_type": "display_data"
    },
    {
     "data": {
      "text/plain": [
       "<function __main__.f(x)>"
      ]
     },
     "execution_count": 5,
     "metadata": {},
     "output_type": "execute_result"
    }
   ],
   "source": [
    "#DROP DOWN MENU PASSING NON-STRING VALUE\n",
    "#Appel de fonction\n",
    "#from ipywidgets import widgets\n",
    "#from IPython.display import display\n",
    "interact(f, x=[('one', 10), ('two', 20)])\n"
   ]
  },
  {
   "cell_type": "code",
   "execution_count": 6,
   "metadata": {},
   "outputs": [
    {
     "data": {
      "application/vnd.jupyter.widget-view+json": {
       "model_id": "ace971123e9a4f3c9f8de2794e75aef4",
       "version_major": 2,
       "version_minor": 0
      },
      "text/plain": [
       "HBox(children=(Play(value=50, description='Press play'), IntSlider(value=0)))"
      ]
     },
     "metadata": {},
     "output_type": "display_data"
    }
   ],
   "source": [
    "#ANIMATION\n",
    "#Appel de fonction\n",
    "#from ipywidgets import widgets\n",
    "#from IPython.display import display\n",
    "play = widgets.Play(value=50,min=0,max=100,step=1,description=\"Press play\",disabled=False)\n",
    "slider = widgets.IntSlider()\n",
    "widgets.jslink((play, 'value'), (slider, 'value')) #liéer deux widgets, jusqu'à séparation\n",
    "widgets.HBox([play, slider])"
   ]
  },
  {
   "cell_type": "markdown",
   "metadata": {},
   "source": [
    "## Deuxième partie - Jupyter Notebook interactif en ligne\n",
    "\n",
    "Jupyter Notebook interactif (nbinteract) en ligne en liaison Binder jusqu'à GitHub "
   ]
  },
  {
   "cell_type": "markdown",
   "metadata": {},
   "source": [
    "Forme d'un lien GitHub: https://(user_name).github.io/(repository)/(code_name).html\n",
    "\n",
    "Exemple: https://aram1skun.github.io/nbinteract-tutorial/Main.html\n",
    "\n",
    "Problème de l'exemple ne montrant pas les widgets...\n",
    "\n",
    "Binder URL de mon JupyterHub à partir de mon GitHub: https://mybinder.org/v2/gh/Aram1skun/nbinteract-tutorial/master"
   ]
  },
  {
   "cell_type": "code",
   "execution_count": null,
   "metadata": {},
   "outputs": [],
   "source": []
  }
 ],
 "metadata": {
  "kernelspec": {
   "display_name": "Python 3",
   "language": "python",
   "name": "python3"
  },
  "language_info": {
   "codemirror_mode": {
    "name": "ipython",
    "version": 3
   },
   "file_extension": ".py",
   "mimetype": "text/x-python",
   "name": "python",
   "nbconvert_exporter": "python",
   "pygments_lexer": "ipython3",
   "version": "3.6.5"
  }
 },
 "nbformat": 4,
 "nbformat_minor": 2
}
